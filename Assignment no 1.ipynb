{
 "cells": [
  {
   "cell_type": "code",
   "execution_count": 5,
   "metadata": {},
   "outputs": [
    {
     "name": "stdout",
     "output_type": "stream",
     "text": [
      "Twinkle, twinkle, little star, \n",
      "\tHow I wonder what  you are! \n",
      "\t\tUp above the world so high, \n",
      "\t\tLike a diamond in the sky. \n",
      "Twinkle, twinkle, little star, \n",
      "\tHow I wonder what you are!\n"
     ]
    }
   ],
   "source": [
    "##1.\tWrite a Python program to print the following string in a specific format\n",
    "            #(see the output).\n",
    "\n",
    "                     ## Twinkle, twinkle, little star,\n",
    "                                   #  How I wonder what you are!\n",
    "                                             #  Up above the world so high,\n",
    "                                              # Like a diamond in the sky.\n",
    "                       #Twinkle, twinkle, little star,\n",
    "                                   #   How I wonder what you are\n",
    "\n",
    "                                           ##  ANSWER\n",
    "print(\"Twinkle, twinkle, little star, \\n\\tHow I wonder what  you are! \\n\\t\\tUp above the world so high, \\n\\t\\tLike a diamond in the sky. \\nTwinkle, twinkle, little star, \\n\\tHow I wonder what you are!\")\n",
    "\n"
   ]
  },
  {
   "cell_type": "code",
   "execution_count": 6,
   "metadata": {},
   "outputs": [
    {
     "name": "stdout",
     "output_type": "stream",
     "text": [
      "Python version\n",
      "3.7.4 (default, Aug  9 2019, 18:34:13) [MSC v.1915 64 bit (AMD64)]\n",
      "Version info.\n",
      "sys.version_info(major=3, minor=7, micro=4, releaselevel='final', serial=0)\n"
     ]
    }
   ],
   "source": [
    "#2.\tWrite a Python program to get the Python version you are using\n",
    "\n",
    "                      #ANSWER\n",
    "import sys\n",
    "print(\"Python version\")\n",
    "print (sys.version)\n",
    "print(\"Version info.\")\n",
    "print (sys.version_info)\n"
   ]
  },
  {
   "cell_type": "code",
   "execution_count": 7,
   "metadata": {},
   "outputs": [
    {
     "name": "stdout",
     "output_type": "stream",
     "text": [
      "Current date and time : \n",
      "11/03/19-52-2019 10:52:48\n"
     ]
    }
   ],
   "source": [
    "#3.\tWrite a Python program to display the current date and time.\n",
    "\t\t\t#ANSWER\n",
    "import datetime\n",
    "now = datetime.datetime.now()\n",
    "print (\"Current date and time : \")\n",
    "print (now.strftime(\"%D-%M-%Y %H:%M:%S\"))\n",
    "\n"
   ]
  },
  {
   "cell_type": "code",
   "execution_count": 8,
   "metadata": {},
   "outputs": [
    {
     "name": "stdout",
     "output_type": "stream",
     "text": [
      "Input the radius of the circle : 3\n",
      "The area of the circle with radius 3.0 is: 28.274333882308138\n"
     ]
    }
   ],
   "source": [
    "#4.\tWrite a Python program which accepts the radius of a circle from the userand compute the area.\n",
    "\t\t\t\t#ANSWER\n",
    "\n",
    "from math import pi\n",
    "radius = float(input (\"Input the radius of the circle : \"))\n",
    "print (\"The area of the circle with radius \" + str(radius) + \" is: \" + str(pi * radius**2))\n"
   ]
  },
  {
   "cell_type": "code",
   "execution_count": 10,
   "metadata": {},
   "outputs": [
    {
     "name": "stdout",
     "output_type": "stream",
     "text": [
      "Input your First Name : sehrish\n",
      "Input your Last Name : bibi\n",
      "Hello  bibi sehrish\n"
     ]
    }
   ],
   "source": [
    "#5.\tWrite a Python program which accepts the user's first and last name andprint them in reverse order with a space between them.\n",
    "\t\t\t\t#ANSWER\n",
    "\n",
    "    \n",
    "firstname = input(\"Input your First Name : \")\n",
    "lastname = input(\"Input your Last Name : \")\n",
    "print (\"Hello  \" + lastname + \" \" + firstname)\n"
   ]
  },
  {
   "cell_type": "code",
   "execution_count": 11,
   "metadata": {},
   "outputs": [
    {
     "name": "stdout",
     "output_type": "stream",
     "text": [
      "enter the first number4\n",
      "enter the second number6\n",
      "sum 10\n"
     ]
    }
   ],
   "source": [
    "#6.\tWrite a python program which takes two inputs from user and print them addition\n",
    "                #ANSWER\n",
    "\n",
    "    \n",
    "num1=int(input(\"enter the first number\"))\n",
    "num2=int(input(\"enter the second number\"))\n",
    "sum=num1+num2\n",
    "print(\"sum\", sum)\n"
   ]
  },
  {
   "cell_type": "code",
   "execution_count": null,
   "metadata": {},
   "outputs": [],
   "source": []
  }
 ],
 "metadata": {
  "kernelspec": {
   "display_name": "Python 3",
   "language": "python",
   "name": "python3"
  },
  "language_info": {
   "codemirror_mode": {
    "name": "ipython",
    "version": 3
   },
   "file_extension": ".py",
   "mimetype": "text/x-python",
   "name": "python",
   "nbconvert_exporter": "python",
   "pygments_lexer": "ipython3",
   "version": "3.7.4"
  }
 },
 "nbformat": 4,
 "nbformat_minor": 2
}
