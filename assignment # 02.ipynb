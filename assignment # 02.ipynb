{
 "cells": [
  {
   "cell_type": "code",
   "execution_count": 11,
   "metadata": {},
   "outputs": [
    {
     "name": "stdout",
     "output_type": "stream",
     "text": [
      "Marks of Five Subjects\n",
      "Enter marks of English: 56\n",
      "Enter marks of Math: 84\n",
      "Enter marks of Science: 78\n",
      "Enter marks of Urdu: 54\n",
      "Enter marks of Islamiat: 58\n",
      "tmarks\n",
      "Grade: F\n"
     ]
    }
   ],
   "source": [
    "#Python program which takes 5 inputs from user for different subject’s marks, total it and generate mark sheet using grades.\n",
    "print(\"Marks of Five Subjects\")\n",
    "sub1=int(input(\"Enter marks of English: \"))\n",
    "sub2=int(input(\"Enter marks of Math: \"))\n",
    "sub3=int(input(\"Enter marks of Science: \"))\n",
    "sub4=int(input(\"Enter marks of Urdu: \"))\n",
    "sub5=int(input(\"Enter marks of Islamiat: \"))\n",
    "tmarks=(sub1+sub2+sub3+sub4+sub4)\n",
    "print(\"tmarks\")\n",
    "if(tmarks>=90 and tmarks<=100):\n",
    "    print(\"Grade: A\")\n",
    "elif(tmarks>=80 and tmarks<90):\n",
    "    print(\"Grade: B\")\n",
    "elif(tmarks >=70 and tmarks<80):\n",
    "    print(\"Grade: C\")\n",
    "elif(tmarks >=60 and tmarks<70):\n",
    "    print(\"Grade: D\")\n",
    "else:\n",
    "    print(\"Grade: F\")\n",
    " \n"
   ]
  },
  {
   "cell_type": "code",
   "execution_count": null,
   "metadata": {},
   "outputs": [],
   "source": [
    "#Python program which take input from user and identify that the given number is even or odd? \n",
    "number=int(input(\"Enter a number: \"))\n",
    "mod=number % 2\n",
    "if mod==0:\n",
    "    print(\"This is an Even number.\")\n",
    "else:\n",
    "    print(\"This is an Odd number.\")\t\n",
    "\n",
    " \n"
   ]
  },
  {
   "cell_type": "code",
   "execution_count": 15,
   "metadata": {},
   "outputs": [
    {
     "name": "stdout",
     "output_type": "stream",
     "text": [
      "4\n"
     ]
    }
   ],
   "source": [
    "#Python program which print the length of the list? \n",
    "list = [12, 40,'ght' ,0] \n",
    "print (len(list))\n",
    " \n",
    " "
   ]
  },
  {
   "cell_type": "code",
   "execution_count": 16,
   "metadata": {},
   "outputs": [
    {
     "name": "stdout",
     "output_type": "stream",
     "text": [
      "Enter Length:5\n",
      "Enter number:58\n",
      "Enter number:6\n",
      "Enter number:95\n",
      "Enter number:32\n",
      "Enter number:25\n",
      "Sum of elements in given list is : 216\n"
     ]
    }
   ],
   "source": [
    "#Python program to sum all the numeric items in a list? \n",
    "list = []\n",
    "length = int(input(\"Enter Length:\"))\n",
    "for n in range(length):\n",
    "    numbers = int(input(\"Enter number:\"))\n",
    "    list.append(numbers)\n",
    "print(\"Sum of elements in given list is :\", sum(list))\n",
    "\n",
    "\n",
    " \n"
   ]
  },
  {
   "cell_type": "code",
   "execution_count": 17,
   "metadata": {},
   "outputs": [
    {
     "name": "stdout",
     "output_type": "stream",
     "text": [
      "Enter Length:5\n",
      "Enter number: 54\n",
      "Enter number: 89\n",
      "Enter number: 54\n",
      "Enter number: 2\n",
      "Enter number: 58\n",
      "Largest element in the list is : 89\n"
     ]
    }
   ],
   "source": [
    "#Python program to get the largest number from a numeric list. \n",
    "list = []\n",
    "length = int(input(\"Enter Length:\"))\n",
    "for n in range(length):\n",
    "    numbers = int(input(\"Enter number: \"))\n",
    "    list.append(numbers)\n",
    "print(\"Largest element in the list is :\", max(list))\n",
    "\n",
    " \n"
   ]
  },
  {
   "cell_type": "code",
   "execution_count": 27,
   "metadata": {},
   "outputs": [
    {
     "name": "stdout",
     "output_type": "stream",
     "text": [
      "1\n",
      "1\n",
      "2\n",
      "3\n"
     ]
    }
   ],
   "source": [
    "#Python program which Take a list, say for example this one: \n",
    "#a = [1, 1, 2, 3, 5, 8, 13, 21, 34, 55, 89] and write a program that prints out all the elements of the list that are less than 5.\n",
    "array = [1, 1, 2, 3, 5, 8, 13, 21, 34, 55, 89]\n",
    "for item in array:\n",
    "    if (item<5):\n",
    "        print(item)\n",
    "\n"
   ]
  },
  {
   "cell_type": "code",
   "execution_count": null,
   "metadata": {},
   "outputs": [],
   "source": []
  }
 ],
 "metadata": {
  "kernelspec": {
   "display_name": "Python 3",
   "language": "python",
   "name": "python3"
  },
  "language_info": {
   "codemirror_mode": {
    "name": "ipython",
    "version": 3
   },
   "file_extension": ".py",
   "mimetype": "text/x-python",
   "name": "python",
   "nbconvert_exporter": "python",
   "pygments_lexer": "ipython3",
   "version": "3.7.4"
  }
 },
 "nbformat": 4,
 "nbformat_minor": 2
}
