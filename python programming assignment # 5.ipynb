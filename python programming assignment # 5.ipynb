{
 "cells": [
  {
   "cell_type": "code",
   "execution_count": 2,
   "metadata": {},
   "outputs": [
    {
     "name": "stdout",
     "output_type": "stream",
     "text": [
      "Input a number to compute the factiorial : 5\n",
      "120\n"
     ]
    }
   ],
   "source": [
    "#Python function to calculate the factorial of a number (a non-negative integer).\n",
    "#The function accepts the number as an argument.\n",
    "def factorial(n):\n",
    "    if n == 0:\n",
    "        return 1\n",
    "    else:\n",
    "        return n * factorial(n-1)\n",
    "n=int(input(\"Input a number to compute the factiorial : \"))\n",
    "print(factorial(n))\n"
   ]
  },
  {
   "cell_type": "code",
   "execution_count": 5,
   "metadata": {},
   "outputs": [
    {
     "name": "stdout",
     "output_type": "stream",
     "text": [
      "Original String :  WHAT Is your NAME\n",
      "No. of Upper case characters :  9\n",
      "No. of Lower case Characters :  5\n"
     ]
    }
   ],
   "source": [
    "#Python function that accepts a string and calculate the number of upper case letters and lower case letters.\n",
    "\n",
    "def string_test(s):\n",
    "    d={\"UPPER_CASE\":0, \"LOWER_CASE\":0}\n",
    "    for c in s:\n",
    "        if c.isupper():\n",
    "           d[\"UPPER_CASE\"]+=1\n",
    "        elif c.islower():\n",
    "           d[\"LOWER_CASE\"]+=1\n",
    "        else:\n",
    "           pass\n",
    "    print (\"Original String : \", s)\n",
    "    print (\"No. of Upper case characters : \", d[\"UPPER_CASE\"])\n",
    "    print (\"No. of Lower case Characters : \", d[\"LOWER_CASE\"])\n",
    "\n",
    "string_test('WHAT Is your NAME')\n"
   ]
  },
  {
   "cell_type": "code",
   "execution_count": 6,
   "metadata": {},
   "outputs": [
    {
     "name": "stdout",
     "output_type": "stream",
     "text": [
      "10 4 66 "
     ]
    }
   ],
   "source": [
    "#Python function to print the even numbers from a given list.\n",
    "\n",
    "# list of numbers \n",
    "list1 = [10, 21, 4, 45, 66, 93] \n",
    "num = 0\n",
    "while(num < len(list1)):       \n",
    "    if num % 2 == 0: \n",
    "       print(list1[num], end = \" \") \n",
    "      \n",
    "    # increment num   \n",
    "    num += 1\n",
    "\n"
   ]
  },
  {
   "cell_type": "code",
   "execution_count": 7,
   "metadata": {},
   "outputs": [
    {
     "name": "stdout",
     "output_type": "stream",
     "text": [
      "enter the string:   shahs\n",
      "Yes\n"
     ]
    }
   ],
   "source": [
    "#Python function that checks whether a passed string is palindrome or not.\n",
    "\n",
    "def isPalindrome(s): \n",
    "    # Calling reverse function \n",
    "    rev = reverse(s) \n",
    "  \n",
    "    # Checking if both string are equal or not \n",
    "    if (s == rev): \n",
    "        return True\n",
    "    return False\n",
    " # function which return reverse of a string  \n",
    "def reverse(s): \n",
    "    return s[::-1] \n",
    "  \n",
    "\n",
    "# Driver code \n",
    "s = input(\"enter the string:   \")\n",
    "ans = isPalindrome(s) \n",
    "  \n",
    "if ans == 1: \n",
    "    print(\"Yes\") \n",
    "else: \n",
    "    print(\"No\") \n"
   ]
  },
  {
   "cell_type": "code",
   "execution_count": 2,
   "metadata": {},
   "outputs": [
    {
     "name": "stdout",
     "output_type": "stream",
     "text": [
      "False\n"
     ]
    }
   ],
   "source": [
    "\n",
    "#Python function that takes a number as a parameter and check the number is prime or not.\n",
    "\n",
    "def test_prime(n):\n",
    "    if (n==1):\n",
    "        return False\n",
    "    elif (n==2):\n",
    "        return True;\n",
    "    else:\n",
    "        for x in range(2,n):\n",
    "            if(n % x==0):\n",
    "                return False\n",
    "        return True             \n",
    "print(test_prime(9))\n",
    "\n"
   ]
  },
  {
   "cell_type": "code",
   "execution_count": 1,
   "metadata": {},
   "outputs": [
    {
     "name": "stdout",
     "output_type": "stream",
     "text": [
      "Welcome to shoplist your favorite shopping list: \n",
      "Want to add something to your shopping list? Y or Ny\n",
      "enter your item to the list:  bowl\n",
      "Want to add to your shopping list? Y or N?y\n",
      "\n",
      "here is your alphabetized shopping list. \n",
      "bowl\n",
      "enter your item to the list:  apples\n",
      "Want to add to your shopping list? Y or N?y\n",
      "\n",
      "here is your alphabetized shopping list. \n",
      "apples\n",
      "bowl\n",
      "enter your item to the list:  mango\n",
      "Want to add to your shopping list? Y or N?n\n",
      "\n",
      "here is your alphabetized shopping list. \n",
      "apples\n",
      "bowl\n",
      "mango\n"
     ]
    }
   ],
   "source": [
    "#Suppose a customer is shopping in a market and you need to print all the items\n",
    "#which user bought from market.\n",
    "#Write a function which accepts the multiple arguments of user shopping list and\n",
    "#print all the items which user bought from market.\n",
    "#(Hint: Arbitrary Argument concept can make this task ease)\n",
    "\n",
    "print(\"Welcome to shoplist your favorite shopping list: \")\n",
    "shoplist=[]\n",
    "add= input(\"Want to add something to your shopping list? Y or N\")\n",
    "while add.lower()==\"y\":\n",
    "    item=input(\"enter your item to the list:  \")\n",
    "    shoplist.append(item)\n",
    "    add=input(\"Want to add to your shopping list? Y or N?\")\n",
    "    print()\n",
    "    print(\"here is your alphabetized shopping list. \")\n",
    "    shoplist.sort()\n",
    "    for listitem in shoplist:\n",
    "        print(listitem)"
   ]
  },
  {
   "cell_type": "code",
   "execution_count": null,
   "metadata": {},
   "outputs": [],
   "source": []
  }
 ],
 "metadata": {
  "kernelspec": {
   "display_name": "Python 3",
   "language": "python",
   "name": "python3"
  },
  "language_info": {
   "codemirror_mode": {
    "name": "ipython",
    "version": 3
   },
   "file_extension": ".py",
   "mimetype": "text/x-python",
   "name": "python",
   "nbconvert_exporter": "python",
   "pygments_lexer": "ipython3",
   "version": "3.7.4"
  }
 },
 "nbformat": 4,
 "nbformat_minor": 2
}
