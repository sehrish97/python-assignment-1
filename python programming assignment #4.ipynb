{
 "cells": [
  {
   "cell_type": "code",
   "execution_count": 1,
   "metadata": {},
   "outputs": [
    {
     "name": "stdout",
     "output_type": "stream",
     "text": [
      "{'first_name': 'ali', 'last_name': 'khan', 'age': 19, 'city': 'karachi'}\n",
      "{'first_name': 'ali', 'last_name': 'khan', 'age': 19, 'city': 'karachi', 'qualification': 'bachlors'}\n",
      "{'first_name': 'ali', 'last_name': 'khan', 'age': 19, 'city': 'karachi', 'qualification': 'master'}\n",
      "{'first_name': 'ali', 'last_name': 'khan', 'age': 19, 'city': 'karachi'}\n"
     ]
    }
   ],
   "source": [
    "#Use a dictionary to store information about a person you know. Store their first name, last name, age,\n",
    "#and the city in which they live. You should have keys such as first_name, last_name, age, and city. Print\n",
    "#each piece of information stored in your dictionary. Add a new key value pair about qualification then\n",
    "#update the qualification value to high academic level then delete it.\n",
    "\n",
    "person = {'first_name': 'ali','last_name': 'khan','age': 19,'city': 'karachi'}\n",
    "print(person)\n",
    "person [\"qualification\"]=\"bachlors\"\n",
    "print(person)\n",
    "person [\"qualification\"]=\"master\"\n",
    "print(person)\n",
    "del person['qualification']\n",
    "print(person)\n",
    "\n"
   ]
  },
  {
   "cell_type": "code",
   "execution_count": 2,
   "metadata": {},
   "outputs": [
    {
     "name": "stdout",
     "output_type": "stream",
     "text": [
      "\n",
      "Karachi is in Pakistan.\n",
      "  It has a population of about 14910000.\n",
      "  The City Of Lights fact.\n",
      "\n",
      "Banglore is in India.\n",
      "  It has a population of about 8426000.\n",
      "  The It Develpers City fact.\n",
      "\n",
      "Istanbul is in Turkey.\n",
      "  It has a population of about 15070000.\n",
      "  The Historical City fact.\n"
     ]
    }
   ],
   "source": [
    "#Make a dictionary called cities. Use the names of three cities as keys in your dictionary. Create a dictionary of information about each city and include the country that the city is in, its approximate population, and one fact about that city. The keys for each city’s dictionary should be something like country, population, and fact. Print the name of each city and all of the information you have stored about it.\n",
    "cities = {\n",
    "    'Karachi': {\n",
    "        'country': 'Pakistan',\n",
    "        'population': 14910000 ,\n",
    "        'fact': 'City of lights',\n",
    "        },\n",
    "    'Banglore': {\n",
    "        'country': 'India',\n",
    "        'population': 8426000,\n",
    "        'fact': 'IT develpers city',\n",
    "        },\n",
    "    'Istanbul': {\n",
    "        'country': 'Turkey',\n",
    "        'population': 15070000,\n",
    "        'fact': 'historical city',\n",
    "        }\n",
    "    }\n",
    "\n",
    "for city, city_info in cities.items():\n",
    "    country = city_info['country'].title()\n",
    "    population = city_info['population']\n",
    "    fact = city_info['fact'].title()\n",
    "\n",
    "    print(\"\\n\" + city.title() + \" is in \" + country + \".\")\n",
    "    print(\"  It has a population of about \" + str(population) + \".\")\n",
    "    print(\"  The \" + fact + \" fact.\")"
   ]
  },
  {
   "cell_type": "code",
   "execution_count": 3,
   "metadata": {},
   "outputs": [
    {
     "name": "stdout",
     "output_type": "stream",
     "text": [
      "How old are you?\n",
      "Enter 'quit' when you are finished. 1\n",
      "  You get in free!\n",
      "How old are you?\n",
      "Enter 'quit' when you are finished. 7\n",
      "  Your ticket is $10.\n",
      "How old are you?\n",
      "Enter 'quit' when you are finished. 60\n",
      "  Your ticket is $15.\n",
      "How old are you?\n",
      "Enter 'quit' when you are finished. quit\n"
     ]
    }
   ],
   "source": [
    "#A movie theater charges different ticket prices depending on a person’s age. If a person is under the age\n",
    "#of 3, the ticket is free; if they are between 3 and 12, the ticket is $10; and if they are over age 12, the\n",
    "#ticket is $15. Write a loop in which you ask users their age, and then tell them the cost of their movie\n",
    "#ticket.\n",
    "prompt = \"How old are you?\"\n",
    "prompt += \"\\nEnter 'quit' when you are finished. \"\n",
    "\n",
    "while True:\n",
    "    age = input(prompt)\n",
    "    if age == 'quit':\n",
    "        break\n",
    "    age = int(age)\n",
    "\n",
    "    if age < 3:\n",
    "        print(\"  You get in free!\")\n",
    "    elif age < 13:\n",
    "        print(\"  Your ticket is $10.\")\n",
    "    else:\n",
    "        print(\"  Your ticket is $15.\")"
   ]
  },
  {
   "cell_type": "code",
   "execution_count": 4,
   "metadata": {},
   "outputs": [
    {
     "name": "stdout",
     "output_type": "stream",
     "text": [
      "Alice in Wonderland is one of my favorite books.\n"
     ]
    }
   ],
   "source": [
    "#Write a function called favorite_book() that accepts one parameter, title. The function should print a\n",
    "#essage, such as One of my favorite books is Alice in Wonderland. Call the function, making sure to\n",
    "#include a book title as an argument in the function call.\n",
    "\n",
    "def favorite_book(title):\n",
    "    \"\"\"Display a message about someone's favorite book.\"\"\"\n",
    "    print(title + \" is one of my favorite books.\")\n",
    "\n",
    "favorite_book('Alice in Wonderland')"
   ]
  },
  {
   "cell_type": "code",
   "execution_count": 6,
   "metadata": {},
   "outputs": [
    {
     "name": "stdout",
     "output_type": "stream",
     "text": [
      "Guess my target number that is between 1 and 30 (inclusive).\n",
      "\n",
      "Your guess(1): 2\n",
      "  Too low.\n",
      "\n",
      "Thanks for playing.\n",
      "Your guess(2): 60\n",
      "  Out of range!\n",
      "Your guess(3): 30\n",
      "  Too high.\n",
      "\n",
      "Thanks for playing.\n",
      "Your guess(4): 15\n",
      "target achieve\n",
      "  Ye-Haw!!\n"
     ]
    }
   ],
   "source": [
    "#Guess the number game\n",
    "#Write a program which randomly generate a number between 1 to 30 and ask the user in input field to\n",
    "# guess the correct number. Give three chances to user guess the number and also give hint to user if\n",
    "# hidden number is greater or smaller than the number he given to input field.\n",
    "\n",
    "import random\n",
    " \n",
    "inclusive_range = (1, 30)\n",
    " \n",
    "print(\"Guess my target number that is between %i and %i (inclusive).\\n\"\n",
    "      % inclusive_range)\n",
    "target = random.randint(*inclusive_range)\n",
    "answer, i = None, 0\n",
    "while answer != target:\n",
    "    i += 1\n",
    "    txt = input(\"Your guess(%i): \" % i)\n",
    "    try:\n",
    "        answer = int(txt)\n",
    "    except ValueError:\n",
    "        print(\"  I don't understand your input of '%s' ?\" % txt)\n",
    "        continue\n",
    "    if answer < inclusive_range[0] or answer > inclusive_range[1]:\n",
    "        print(\"  Out of range!\")\n",
    "        continue\n",
    "    if answer == 15:\n",
    "        print(\"target achieve\")\n",
    "        print(\"  Ye-Haw!!\")\n",
    "        break\n",
    "    if answer < target: print(\"  Too low.\")\n",
    "    if answer > target: print(\"  Too high.\")\n",
    "    print(\"\\nThanks for playing.\")"
   ]
  },
  {
   "cell_type": "code",
   "execution_count": null,
   "metadata": {},
   "outputs": [],
   "source": []
  }
 ],
 "metadata": {
  "kernelspec": {
   "display_name": "Python 3",
   "language": "python",
   "name": "python3"
  },
  "language_info": {
   "codemirror_mode": {
    "name": "ipython",
    "version": 3
   },
   "file_extension": ".py",
   "mimetype": "text/x-python",
   "name": "python",
   "nbconvert_exporter": "python",
   "pygments_lexer": "ipython3",
   "version": "3.7.4"
  }
 },
 "nbformat": 4,
 "nbformat_minor": 2
}
