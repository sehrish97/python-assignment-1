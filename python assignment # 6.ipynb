{
 "cells": [
  {
   "cell_type": "markdown",
   "metadata": {},
   "source": [
    "# Question 1:\n",
    "  Define Object Oriented Programming Language?\n",
    "\n",
    "Object-oriented language (OOL) is a high-level computer programming language that implements objects and their associated procedures within the programming context to create software programs.\n",
    "Object-oriented language uses an object-oriented programming technique that binds related data and functions into an object and encourages reuse of these objects within the same and other programs.\n"
   ]
  },
  {
   "cell_type": "markdown",
   "metadata": {},
   "source": [
    "# Question 2:\n",
    "List down the Benefits of OOP?\n",
    "\n",
    "Benefits of OOP\n",
    "\n",
    "1. Improved software-development productivity: Object-oriented programming is\n",
    "modular, as it provides separation of duties in object-based program development. It\n",
    "is also extensible, as objects can be extended to include new attributes and\n",
    "behaviors. Objects can also be reused within an across applications. Because of\n",
    "these three factors – modularity, extensibility, and reusability – object-oriented\n",
    "programming provides improved software-development productivity over traditional\n",
    "procedure-based programming techniques.\n",
    "\n",
    "2. Improved software maintainability: For the reasons mentioned above, objectoriented software is also easier to maintain. Since the design is modular, part of the\n",
    "system can be updated in case of issues without a need to make large-scale\n",
    "changes.\n",
    "\n",
    "3. Faster development: Reuse enables faster development. Object-oriented\n",
    "programming languages come with rich libraries of objects, and code developed\n",
    "during projects is also reusable in future projects.\n",
    "\n",
    "4. Lower cost of development: The reuse of software also lowers the cost of\n",
    "development. Typically, more effort is put into the object-oriented analysis and\n",
    "design, which lowers the overall cost of development.\n",
    "\n",
    "5. Higher-quality software: Faster development of software and lower cost of\n",
    "development allows more time and resources to be used in the verification of the\n",
    "software. Although quality is dependent upon the experience of the teams, objectoriented programming tends to result in higher-quality software.\n"
   ]
  },
  {
   "cell_type": "markdown",
   "metadata": {},
   "source": [
    "# Question 3:\n",
    "Differentiate between function and method?\n",
    "\n",
    "##...METHOD\n",
    "\n",
    "1.Method is called by its name, but it is associated to an object (dependent).\n",
    "2.A method is implicitly passed the object on which it is invoked.\n",
    "3.It may or may not return any data.\n",
    "4.A method can operate on the data (instance variables) that is contained by the corresponding class\n",
    "\n",
    "Basic Method Structure in Python :\n",
    "\n",
    "## Basic Python method  \n",
    "class ABC : \n",
    "    def method_abc (self): \n",
    "        print(\"I am in method_abc of ABC class. \") \n",
    "  \n",
    "class_ref = ABC() # object of ABC class \n",
    "class_ref.method_abc()\n",
    "\n",
    "##Functions\n",
    "\n",
    "1.Function is block of code that is also called by its name. (independent)\n",
    "2.The function can have different parameters or may not have any at all. If any data (parameters) are passed, they are passed explicitly.\n",
    "3.It may or may not return any data.\n",
    "4.Function does not deal with Class and its instance concept.\n",
    "\n",
    "Basic Function Structure in Python : \n",
    "\n",
    "def function_name ( arg1, arg2, ...) : \n",
    "    ...... \n",
    "    # function body \n",
    "    ......    \n"
   ]
  },
  {
   "cell_type": "markdown",
   "metadata": {},
   "source": [
    "# Question 4:\n",
    "Define the following terms:\n",
    "\n",
    "1. Class: A class is a code template for creating objects. Objects have member variables and have behaviour associated with them. In python a class is created by the keyword class.\n",
    "\n",
    "2. Object: An object is created using the constructor of the class. This object will then be called the instance of the class. In Python we create instances in the following manner\n",
    "\n",
    "  Instance = class(arguments)\n",
    "\n",
    "3. Attributes: A class by itself is of no use unless there is some functionality associated with it. Functionalities are defined by setting attributes, which act as containers for data and functions related to those attributes.\n",
    "\n",
    "4. Behavior: Behaviour provides a language suitable for Behaviour Driven Development (BDD), as opposed to post-coding unit testing. It operates as a facade over Python’s unit testing framework.BDD is a derivative of Test Driven Development (TDD)\n"
   ]
  },
  {
   "cell_type": "code",
   "execution_count": 1,
   "metadata": {},
   "outputs": [
    {
     "name": "stdout",
     "output_type": "stream",
     "text": [
      "bmw car braking\n",
      "bmw car starting\n",
      "I'm driving a blue bmw car! with 3 passengers\n",
      "I'm driving a black ford car! with 3 passengers\n",
      "I'm driving a red ferrari car! with 4 passengers\n",
      "ferrari car braking\n"
     ]
    }
   ],
   "source": [
    "#Question 5:\n",
    "#Write a code in python in which create a class named it Car which have 5 attributes such like (model, color and name etc.)\n",
    "#and 3 methods. And create 5 object instance from that class.\n",
    "\n",
    "class car(object):\n",
    "    \"\"\"docstring\"\"\"\n",
    "\n",
    "    def __init__(self, color, doors, tires, vtype, passengers):\n",
    "        \"\"\"Constructor\"\"\"\n",
    "        self.color = color\n",
    "        self.doors = doors\n",
    "        self.tires = tires\n",
    "        self.vtype = vtype\n",
    "        self.passengers=passengers \n",
    "    def start(self):\n",
    "        return \"%s starting\" % self.vtype\n",
    "\n",
    "    def brake(self):\n",
    "        \"\"\"\n",
    "        Stop the car\n",
    "        \"\"\"\n",
    "        return \"%s braking\" % self.vtype\n",
    "\n",
    "    def drive(self):\n",
    "        \"\"\"\n",
    "        Drive the car\n",
    "        \"\"\"\n",
    "        return \"I'm driving a %s %s! with %s passengers\" % (self.color, self.vtype,self.passengers)\n",
    "\n",
    "if __name__ == \"__main__\":\n",
    "    bmw = car(\"blue\", 5, 4, \"bmw car\",3)\n",
    "    print(bmw.brake())\n",
    "    print(bmw.start())\n",
    "    print(bmw.drive())\n",
    "    ford = car(\"black\", 5, 4, \"ford car\",3)\n",
    "    print(ford.drive())\n",
    "    ferrari = car(\"red\", 3, 6, \"ferrari car\", 4)\n",
    "    print(ferrari.drive())\n",
    "    print(ferrari.brake())"
   ]
  },
  {
   "cell_type": "code",
   "execution_count": null,
   "metadata": {},
   "outputs": [],
   "source": []
  }
 ],
 "metadata": {
  "kernelspec": {
   "display_name": "Python 3",
   "language": "python",
   "name": "python3"
  },
  "language_info": {
   "codemirror_mode": {
    "name": "ipython",
    "version": 3
   },
   "file_extension": ".py",
   "mimetype": "text/x-python",
   "name": "python",
   "nbconvert_exporter": "python",
   "pygments_lexer": "ipython3",
   "version": "3.7.4"
  }
 },
 "nbformat": 4,
 "nbformat_minor": 2
}
